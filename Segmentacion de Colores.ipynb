{
 "cells": [
  {
   "cell_type": "code",
   "execution_count": 1,
   "id": "c228b925-825f-4831-bc69-7c47264559ed",
   "metadata": {},
   "outputs": [],
   "source": [
    "import cv2 as cv\n",
    "img = cv.imread('D:\\\\Escuela Betin\\\\9no Sem\\\\3. Inteligencia Artificial\\\\Material de clase\\\\f1.jpg',1)\n",
    "img2 = cv.cvtColor(img, cv.COLOR_BGR2HSV)\n",
    "ubb = (0,60,60)\n",
    "uba =(10, 255,255)\n",
    "mask = cv.inRange(img2, ubb,uba)\n",
    "img3 = cv.bitwise_and(img,img, mask=mask)\n",
    "cv.imshow('im2', img2)\n",
    "cv.imshow('img', img)\n",
    "cv.imshow('img3', img3)\n",
    "cv.waitKey(0)\n",
    "cv.destroyAllWindows()"
   ]
  },
  {
   "cell_type": "markdown",
   "id": "f3c2a80a-f83f-4af0-a652-6a515749ebf6",
   "metadata": {},
   "source": [
    "# Color\n",
    "\n",
    "Hay segmentacion de colores, que se maneja por canales, los cuales se segmenta para trabajar con estos. en esta caso el uso de \n",
    "```\n",
    "cvtColor\n",
    "```\n",
    "Nos ayuda para la representacion de la segmentacion de información"
   ]
  },
  {
   "cell_type": "code",
   "execution_count": 2,
   "id": "5862a514-43b8-4a7e-8856-e620ac83543b",
   "metadata": {},
   "outputs": [],
   "source": [
    "import cv2 as cv\n",
    "img = cv.imread('D:\\\\Escuela Betin\\\\9no Sem\\\\3. Inteligencia Artificial\\\\Material de clase\\\\f1.jpg',1)\n",
    "img2 = cv.cvtColor(img, cv.COLOR_BGR2HSV)\n",
    "ubb = (0, 60, 60)\n",
    "uba = (10, 255, 255)\n",
    "\n",
    "ubb1 = (170, 60, 60)\n",
    "uba1 = (180, 255, 255)\n",
    "\n",
    "mask1 = cv.inRange(img2, ubb, uba)\n",
    "mask2 = cv.inRange(img2, ubb1, uba1)\n",
    "mask3 = mask1 + mask2\n",
    "\n",
    "img3 = cv.bitwise_and(img, img, mask = mask3)\n",
    "\n",
    "cv.imshow('img2', img2)\n",
    "cv.imshow('img', img)\n",
    "cv.imshow('img3', img3)\n",
    "cv.imshow('mask1', mask1)\n",
    "cv.imshow('mask2', mask2)\n",
    "cv.imshow('mask3', mask3)\n",
    "cv.waitKey(0)\n",
    "cv.destroyAllWindows()"
   ]
  },
  {
   "cell_type": "markdown",
   "id": "27500428-815c-4789-bb4c-8b222d8194de",
   "metadata": {},
   "source": [
    "# Manejo de Videos\n",
    "```\n",
    "cv.VideoCapture\n",
    "```\n",
    "Cuando hay un valor numerico, le decimos que detecte rutas de video (camaras, drivers, etc), lee el buffer y empeiza a tomar video, El while(true) bsca hasta tronar (encontrar todo), toma los fotgamas del dispositivo, una vez que hay dispositivo, empieza a mostrar."
   ]
  },
  {
   "cell_type": "code",
   "execution_count": null,
   "id": "906a4b22-5cf3-46f7-b645-307f60791b7c",
   "metadata": {},
   "outputs": [],
   "source": [
    "import cv2 as cv\n",
    "cap = cv.VideoCapture(0)\n",
    "while(True):\n",
    "    ret, img = cap.read()\n",
    "    r,g,b = cv.split(img)\n",
    "    #img2 = cv.cvtColor(img, cv.COLOR_BGR2HSV)\n",
    "    if ret == True:\n",
    "        cv.imshow('video', img)\n",
    "        #cv.imshow('video2', img2)\n",
    "        cv.imshow('r', r)\n",
    "        cv.imshow('g', g)\n",
    "        cv.imshow('b', b)\n",
    "        k = cv.waitKey(1) & 0xFF\n",
    "        if k == 27 :\n",
    "            break\n",
    "    else:\n",
    "        break\n",
    "cap.release()\n",
    "cv.destroyAllWindows()"
   ]
  },
  {
   "cell_type": "code",
   "execution_count": null,
   "id": "e94bcb57-a928-436e-8860-2fd3d88af0da",
   "metadata": {},
   "outputs": [],
   "source": []
  }
 ],
 "metadata": {
  "kernelspec": {
   "display_name": "Python 3 (ipykernel)",
   "language": "python",
   "name": "python3"
  },
  "language_info": {
   "codemirror_mode": {
    "name": "ipython",
    "version": 3
   },
   "file_extension": ".py",
   "mimetype": "text/x-python",
   "name": "python",
   "nbconvert_exporter": "python",
   "pygments_lexer": "ipython3",
   "version": "3.12.2"
  }
 },
 "nbformat": 4,
 "nbformat_minor": 5
}
