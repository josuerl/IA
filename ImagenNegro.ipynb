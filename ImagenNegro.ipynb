{
 "cells": [
  {
   "cell_type": "code",
   "execution_count": null,
   "id": "cd180a34-9e19-433b-995e-88f3445eec30",
   "metadata": {},
   "outputs": [],
   "source": [
    "impor cv2 as cv"
   ]
  },
  {
   "cell_type": "code",
   "execution_count": null,
   "id": "dbeba14c-d319-456f-bffe-c0433ad478cb",
   "metadata": {},
   "outputs": [],
   "source": [
    "img = cv.imread('C:\\\\Users\\\\Jorgi\\\\pictures\\\\imagen.jpg', 0)\n",
    "print(img.shape)\n",
    "w, h = img.shape\n",
    "cv.imshow('Ejemplo', img)\n",
    "for i in range(w):\n",
    "    for j in range(h):\n",
    "        #img[i,j] = 255-img[i,j]\n",
    "        if(img[i,j]>150):\n",
    "            img[i,j]=255\n",
    "        else:\n",
    "            img[i,j]=0\n",
    "cv.imshow('Ejemplo2', img)            \n",
    "cv.waitKey(0)\n",
    "cv.destroyAllWindows()"
   ]
  }
 ],
 "metadata": {
  "kernelspec": {
   "display_name": "Python 3 (ipykernel)",
   "language": "python",
   "name": "python3"
  },
  "language_info": {
   "codemirror_mode": {
    "name": "ipython",
    "version": 3
   },
   "file_extension": ".py",
   "mimetype": "text/x-python",
   "name": "python",
   "nbconvert_exporter": "python",
   "pygments_lexer": "ipython3",
   "version": "3.12.2"
  }
 },
 "nbformat": 4,
 "nbformat_minor": 5
}
