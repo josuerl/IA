{
 "cells": [
  {
   "cell_type": "code",
   "execution_count": 1,
   "id": "dc6fc848-0176-40b3-bf06-78bfa1403f7c",
   "metadata": {},
   "outputs": [],
   "source": [
    "import cv2 as cv\n",
    "import numpy as np"
   ]
  },
  {
   "cell_type": "code",
   "execution_count": 1,
   "id": "f586f88d-2193-48cf-956c-349d4d35b640",
   "metadata": {},
   "outputs": [
    {
     "ename": "NameError",
     "evalue": "name 'cv' is not defined",
     "output_type": "error",
     "traceback": [
      "\u001b[1;31m---------------------------------------------------------------------------\u001b[0m",
      "\u001b[1;31mNameError\u001b[0m                                 Traceback (most recent call last)",
      "Cell \u001b[1;32mIn[1], line 1\u001b[0m\n\u001b[1;32m----> 1\u001b[0m img \u001b[38;5;241m=\u001b[39m \u001b[43mcv\u001b[49m\u001b[38;5;241m.\u001b[39mimread(\u001b[38;5;124m'\u001b[39m\u001b[38;5;124mE:\u001b[39m\u001b[38;5;130;01m\\\\\u001b[39;00m\u001b[38;5;124mIA\u001b[39m\u001b[38;5;130;01m\\\\\u001b[39;00m\u001b[38;5;124mImag\u001b[39m\u001b[38;5;130;01m\\\\\u001b[39;00m\u001b[38;5;124mimg.jpg\u001b[39m\u001b[38;5;124m'\u001b[39m,\u001b[38;5;241m0\u001b[39m)\n\u001b[0;32m      2\u001b[0m w,h \u001b[38;5;241m=\u001b[39m img\u001b[38;5;241m.\u001b[39mshape[:\u001b[38;5;241m2\u001b[39m]\n\u001b[0;32m      3\u001b[0m img2 \u001b[38;5;241m=\u001b[39m np\u001b[38;5;241m.\u001b[39mzeros((w\u001b[38;5;241m*\u001b[39m\u001b[38;5;241m2\u001b[39m, h\u001b[38;5;241m*\u001b[39m\u001b[38;5;241m2\u001b[39m), dtype\u001b[38;5;241m=\u001b[39m\u001b[38;5;124m'\u001b[39m\u001b[38;5;124muint8\u001b[39m\u001b[38;5;124m'\u001b[39m)\u001b[38;5;241m*\u001b[39m\u001b[38;5;241m150\u001b[39m\n",
      "\u001b[1;31mNameError\u001b[0m: name 'cv' is not defined"
     ]
    }
   ],
   "source": [
    "import cv2 as cv\n",
    "import numpy as np\n",
    "img = cv.imread('E:\\\\IA\\\\Imag\\\\img.jpg',0)\n",
    "w,h = img.shape[:2]\n",
    "img2 = np.zeros((w*2, h*2), dtype='uint8')*150\n",
    "for i in range(w):\n",
    "    for j in range(h):\n",
    "        img2[int (i*0.5), int (j*0.5)] = img[i,j]\n",
    "cv.imshow('img', img)\n",
    "cv.imshow('img2', img2)\n",
    "cv.waitKey(0)\n",
    "cv.destroyAllWindows()"
   ]
  },
  {
   "cell_type": "markdown",
   "id": "ac3c0d68-caaf-4363-86d2-0338110e8ba6",
   "metadata": {},
   "source": [
    "# Notas\n",
    "En este caso escalamos, es decir, separamos los pixeles y los vemos de una forma completamente diferente, como se muestra ya corriendo.\n",
    "\n",
    "```\n",
    "img = cv.imread('D:\\\\Escuela Betin\\\\9no Sem\\\\3. Inteligencia Artificial\\\\Material de clase\\\\f1.jpg',0)\n",
    "w,h = img.shape[:2]\n",
    "img2 = np.zeros((w, h), dtype='uint8')*150\n",
    "for i in range(w):\n",
    "    for j in range(h):\n",
    "        img2[int (i*0.5), int (j*0.5)] = img[i,j]\n",
    "cv.imshow('img', img)\n",
    "cv.imshow('img2', img2)\n",
    "cv.waitKey(0)\n",
    "cv.destroyAllWindows()\n",
    "```\n",
    "\n",
    "Con este codigo, podemos ver como se hace mas chica.\n",
    "\n",
    "\n",
    "Por ejemplo si lo ponemos en suma, retorna en el eje x,y.\n",
    "\n",
    "```\n",
    "img = cv.imread('D:\\\\Escuela Betin\\\\9no Sem\\\\3. Inteligencia Artificial\\\\Material de clase\\\\f1.jpg',0)\n",
    "w,h = img.shape[:2]\n",
    "img2 = np.zeros((w*2, h*2), dtype='uint8')*150\n",
    "for i in range(w):\n",
    "    for j in range(h):\n",
    "        img2[int (i*0.5)+100, int (j*0.5)+100] = img[i,j]\n",
    "cv.imshow('img', img)\n",
    "cv.imshow('img2', img2)\n",
    "cv.waitKey(0)\n",
    "cv.destroyAllWindows()\n",
    "```\n",
    "\n",
    "open.cv tiene diferentes funciones, podemos rotar, escalar, transladar, etc.\n"
   ]
  },
  {
   "cell_type": "code",
   "execution_count": 3,
   "id": "46166c94-221f-41e4-952e-5d787aba44fe",
   "metadata": {},
   "outputs": [],
   "source": [
    "import cv2 as cv\n",
    "import numpy as np"
   ]
  },
  {
   "cell_type": "code",
   "execution_count": 4,
   "id": "2f71fdd3-53b3-4c2b-a36c-a0984dc57e5d",
   "metadata": {},
   "outputs": [],
   "source": [
    "def escala(imx, escala):\n",
    "    width = int(imx.shape[1]*escala/100)\n",
    "    height = int(imx.shape[0]*escala/100)\n",
    "    size = (width, height)\n",
    "    im = cv.resize(imx, size, interpolation = cv.INTER_AREA)\n",
    "    return im"
   ]
  },
  {
   "cell_type": "code",
   "execution_count": 5,
   "id": "bd9490d5-2d2c-4293-b31b-a7132ce49af0",
   "metadata": {},
   "outputs": [
    {
     "ename": "NameError",
     "evalue": "name 'r' is not defined",
     "output_type": "error",
     "traceback": [
      "\u001b[1;31m---------------------------------------------------------------------------\u001b[0m",
      "\u001b[1;31mNameError\u001b[0m                                 Traceback (most recent call last)",
      "Cell \u001b[1;32mIn[5], line 5\u001b[0m\n\u001b[0;32m      2\u001b[0m w, h \u001b[38;5;241m=\u001b[39m img\u001b[38;5;241m.\u001b[39mshape[:\u001b[38;5;241m2\u001b[39m]\n\u001b[0;32m      3\u001b[0m img2 \u001b[38;5;241m=\u001b[39m np\u001b[38;5;241m.\u001b[39mzeros((w, h), dtype\u001b[38;5;241m=\u001b[39m\u001b[38;5;124m'\u001b[39m\u001b[38;5;124muint8\u001b[39m\u001b[38;5;124m'\u001b[39m)\n\u001b[1;32m----> 5\u001b[0m r \u001b[38;5;241m=\u001b[39m cv\u001b[38;5;241m.\u001b[39mmerge([\u001b[43mr\u001b[49m, img2, img2])\n\u001b[0;32m      6\u001b[0m g \u001b[38;5;241m=\u001b[39m cv\u001b[38;5;241m.\u001b[39mmerge([img2, g, img2])\n\u001b[0;32m      7\u001b[0m b \u001b[38;5;241m=\u001b[39m cv\u001b[38;5;241m.\u001b[39mmerge([img2, img2, b])\n",
      "\u001b[1;31mNameError\u001b[0m: name 'r' is not defined"
     ]
    }
   ],
   "source": [
    "img = cv.imread('D:\\\\Escuela Betin\\\\9no Sem\\\\3. Inteligencia Artificial\\\\Material de clase\\\\f1.jpg',0)\n",
    "w, h = img.shape[:2]\n",
    "img2 = np.zeros((w, h), dtype='uint8')\n",
    "\n",
    "r = cv.merge([r, img2, img2])\n",
    "g = cv.merge([img2, g, img2])\n",
    "b = cv.merge([img2, img2, b])\n",
    "\n",
    "cv.imshow('r', r)\n",
    "cv.imshow('g', g)\n",
    "cv.imshow('b', b)\n",
    "cv.waitKey(0)\n",
    "cv.destroyAllWindows()"
   ]
  },
  {
   "cell_type": "code",
   "execution_count": 6,
   "id": "51c77cdf-4a33-412d-921f-d2bce4565443",
   "metadata": {},
   "outputs": [],
   "source": [
    "img= cv.imread('D:\\\\Escuela Betin\\\\9no Sem\\\\3. Inteligencia Artificial\\\\Material de clase\\\\f1.jpg',1)\n",
    "w, h = img.shape[:2]\n",
    "img2 = np.zeros((w, h), dtype='uint8')\n",
    "\n",
    "r,g,b = cv.split(img)\n",
    "#r = cv.merge([r, img2, img2])\n",
    "#g = cv.merge([img2, g, img2])\n",
    "#b = cv.merge([img2, img2, b])\n",
    "\n",
    "r1 = cv.merge([g, r, b])\n",
    "g1 = cv.merge([r, b, g])\n",
    "b1 = cv.merge([b, r, g])\n",
    "\n",
    "cv.imshow('r', r1)\n",
    "cv.imshow('g', g1)\n",
    "cv.imshow('b', b1)\n",
    "cv.waitKey(0)\n",
    "cv.destroyAllWindows()"
   ]
  },
  {
   "cell_type": "code",
   "execution_count": null,
   "id": "a1c3cbdf-3ac8-455b-b80d-fef88fe79729",
   "metadata": {},
   "outputs": [],
   "source": []
  }
 ],
 "metadata": {
  "kernelspec": {
   "display_name": "Python 3 (ipykernel)",
   "language": "python",
   "name": "python3"
  },
  "language_info": {
   "codemirror_mode": {
    "name": "ipython",
    "version": 3
   },
   "file_extension": ".py",
   "mimetype": "text/x-python",
   "name": "python",
   "nbconvert_exporter": "python",
   "pygments_lexer": "ipython3",
   "version": "3.12.2"
  }
 },
 "nbformat": 4,
 "nbformat_minor": 5
}
