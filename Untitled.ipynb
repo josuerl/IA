{
 "cells": [
  {
   "cell_type": "markdown",
   "id": "366940b4-cab0-4974-81b9-3b480a20068f",
   "metadata": {},
   "source": [
    "# Cargar imagen"
   ]
  },
  {
   "cell_type": "code",
   "execution_count": 1,
   "id": "928678f2-f9c7-43c7-9b5d-ff80f66e7d07",
   "metadata": {},
   "outputs": [],
   "source": [
    "import cv2 as cv"
   ]
  },
  {
   "cell_type": "code",
   "execution_count": 9,
   "id": "9f4b3350-d72f-4dfa-945d-b2fa8dcdc688",
   "metadata": {},
   "outputs": [],
   "source": [
    "import cv2 as cv\n",
    "\n",
    "cap = cv.VideoCapture(0)\n",
    "while True:\n",
    "    res, img = cap.read()\n",
    "    img2=cv.cvtColor(img, cv.COLOR_BGR2HSV)\n",
    "    vb = (0, 50, 60)\n",
    "    va = (10, 255, 255)\n",
    "    mask=cv.inRange(img2, vb, va)\n",
    "    res=cv.bitwise_and(img,img, mask=mask)\n",
    "    cv.imshow('captura', res)\n",
    "    if cv.waitKey(1) & 0xFF == ord('s'):\n",
    "        break\n",
    "\n",
    "cap.release()\n",
    "cv.destroyAllWindows()"
   ]
  },
  {
   "cell_type": "code",
   "execution_count": null,
   "id": "3dc2d9b5-a4d0-49dd-8ec6-197b84f1345d",
   "metadata": {},
   "outputs": [],
   "source": []
  }
 ],
 "metadata": {
  "kernelspec": {
   "display_name": "Python 3 (ipykernel)",
   "language": "python",
   "name": "python3"
  },
  "language_info": {
   "codemirror_mode": {
    "name": "ipython",
    "version": 3
   },
   "file_extension": ".py",
   "mimetype": "text/x-python",
   "name": "python",
   "nbconvert_exporter": "python",
   "pygments_lexer": "ipython3",
   "version": "3.12.2"
  }
 },
 "nbformat": 4,
 "nbformat_minor": 5
}
